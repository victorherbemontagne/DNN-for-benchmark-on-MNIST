{
 "cells": [
  {
   "cell_type": "code",
   "execution_count": null,
   "metadata": {},
   "outputs": [],
   "source": []
  },
  {
   "cell_type": "code",
   "execution_count": null,
   "metadata": {},
   "outputs": [],
   "source": []
  },
  {
   "cell_type": "code",
   "execution_count": null,
   "metadata": {},
   "outputs": [],
   "source": [
    "from tensorflow.examples.tutorials.mnist import *"
   ]
  },
  {
   "cell_type": "code",
   "execution_count": null,
   "metadata": {},
   "outputs": [],
   "source": [
    "import seaborn as sbn\n",
    "import tensorflow as tf\n",
    "from functools import partial\n",
    "\n",
    "from tensorflow.examples.tutorials.mnist import input_data\n",
    "mnist = input_data.read_data_sets(\"MNIST_data/\", one_hot=True)\n",
    "\n",
    "\n",
    "\n",
    "train = mnist.train.images\n",
    "target_train = mnist.train.labels"
   ]
  },
  {
   "cell_type": "code",
   "execution_count": null,
   "metadata": {},
   "outputs": [],
   "source": [
    "##Code d'un réseau de neuronnes avec optimizer Adam, batch normalisation, relu\n",
    "n_neural_hidden_1 = 300\n",
    "n_neural_hidden_2 = 200\n",
    "training = True\n",
    "\n",
    "def echeancier_apprentissage(initial_learning_rate,decay_steps = 10000,decay_rate = 1/10):\n",
    "\n",
    "    return(learning_rate)\n",
    "    \n",
    "\n",
    "def neural_nets(data,target,batch_size=128,nbr_epoch=30,n_neural_hidden_1 = 300,n_neural_hidden_2 = 100,initial_learning_rate = 0.1,dropout_rate = 0.90,decay_steps = 10000,decay_rate = 1/10,training = True):\n",
    "    tf.reset_default_graph() \n",
    "    my_batch_normalisation_layer = partial(tf.layers.batch_normalization,training = training, momentum = 0.9)\n",
    "    he_init = tf.contrib.layers.variance_scaling_initializer(mode = 'FAN_AVG')\n",
    "    keep_prob = tf.constant(dropout_rate)\n",
    "    \n",
    "    input_nn = tf.placeholder('float',shape = (None,784))\n",
    "    target_nn = tf.placeholder('float',shape = (None,10))\n",
    "    \n",
    "    hidden_1 = tf.layers.dense(input_nn,n_neural_hidden_1,kernel_initializer = he_init, name = 'hidden1')\n",
    "#     batch_normed =my_batch_normalisation_layer(hidden_1)\n",
    "    batch_activated = tf.nn.selu(hidden_1)\n",
    "    batch_activated = tf.contrib.nn.alpha_dropout(batch_activated,keep_prob)\n",
    "    hidden_2 = tf.layers.dense(batch_activated,n_neural_hidden_2,kernel_initializer = he_init,name = 'hidden2')\n",
    "    batch_activated2 = tf.nn.selu(hidden_2)\n",
    "    batch_activated2 = tf.contrib.nn.alpha_dropout(batch_activated2,keep_prob)\n",
    "    \n",
    "    output = tf.layers.dense(batch_activated2,10,name = 'output')\n",
    "    y_pred = tf.nn.softmax(output,name='softmax_out')\n",
    "    \n",
    "    loss = tf.nn.softmax_cross_entropy_with_logits(logits = y_pred,labels = target_nn)\n",
    "    error = tf.reduce_mean(loss)\n",
    "    \n",
    "    global_step = tf.Variable(0, trainable=False)\n",
    "\n",
    "    learning_rate = tf.train.exponential_decay(initial_learning_rate,global_step,decay_steps,decay_rate)\n",
    "\n",
    "    optimizer = tf.train.MomentumOptimizer(learning_rate=learning_rate,momentum=0.9,use_nesterov=True)\n",
    "    train_op = optimizer.minimize(error,global_step=global_step)\n",
    "    \n",
    "    extra_update_ops = tf.get_collection(tf.GraphKeys.UPDATE_OPS)\n",
    "    \n",
    "\n",
    "    with tf.Session() as sess:\n",
    "        init = tf.global_variables_initializer()\n",
    "        sess.run(init)\n",
    "        for epoch in range(nbr_epoch):\n",
    "            for batch in range(data.shape[0]//batch_size):\n",
    "                loss = sess.run([error,train_op,extra_update_ops], \n",
    "                                feed_dict={input_nn:data[128*batch:128*(batch+1)],\n",
    "                                           target_nn:target[128*batch:128*(batch+1)]}\n",
    "                               )[0]\n",
    "            print('Epoch {}, Loss de ->'.format(epoch),loss)\n"
   ]
  },
  {
   "cell_type": "code",
   "execution_count": null,
   "metadata": {
    "scrolled": true
   },
   "outputs": [],
   "source": [
    "neural_nets(train,target_train)"
   ]
  },
  {
   "cell_type": "code",
   "execution_count": null,
   "metadata": {
    "scrolled": true
   },
   "outputs": [],
   "source": [
    "train.shape[0]"
   ]
  },
  {
   "cell_type": "code",
   "execution_count": null,
   "metadata": {},
   "outputs": [],
   "source": []
  },
  {
   "cell_type": "code",
   "execution_count": null,
   "metadata": {},
   "outputs": [],
   "source": []
  },
  {
   "cell_type": "code",
   "execution_count": null,
   "metadata": {},
   "outputs": [],
   "source": []
  },
  {
   "cell_type": "code",
   "execution_count": null,
   "metadata": {},
   "outputs": [],
   "source": []
  },
  {
   "cell_type": "code",
   "execution_count": null,
   "metadata": {},
   "outputs": [],
   "source": []
  },
  {
   "cell_type": "code",
   "execution_count": null,
   "metadata": {},
   "outputs": [],
   "source": []
  },
  {
   "cell_type": "code",
   "execution_count": null,
   "metadata": {},
   "outputs": [],
   "source": []
  },
  {
   "cell_type": "markdown",
   "metadata": {},
   "source": [
    "<h3>Data processing</h3>"
   ]
  },
  {
   "cell_type": "code",
   "execution_count": 1,
   "metadata": {},
   "outputs": [
    {
     "name": "stdout",
     "output_type": "stream",
     "text": [
      "Extracting MNIST_data/train-images-idx3-ubyte.gz\n",
      "Extracting MNIST_data/train-labels-idx1-ubyte.gz\n",
      "Extracting MNIST_data/t10k-images-idx3-ubyte.gz\n",
      "Extracting MNIST_data/t10k-labels-idx1-ubyte.gz\n"
     ]
    }
   ],
   "source": [
    "import numpy as np\n",
    "import tensorflow as tf\n",
    "import seaborn as sbn\n",
    "\n",
    "from functools import partial\n",
    "\n",
    "from tensorflow.examples.tutorials.mnist import input_data\n",
    "\n",
    "mnist = input_data.read_data_sets(\"MNIST_data/\", one_hot=True)    "
   ]
  },
  {
   "cell_type": "code",
   "execution_count": null,
   "metadata": {},
   "outputs": [],
   "source": []
  },
  {
   "cell_type": "code",
   "execution_count": 15,
   "metadata": {},
   "outputs": [],
   "source": [
    "train = mnist.train.images\n",
    "target_train = mnist.train.labels\n",
    "\n",
    "train_util = []\n",
    "target_train_util = []\n",
    "\n",
    "for k in range(train.shape[0]):\n",
    "    if np.sum(target_train[k][0:5]) != 0:\n",
    "        train_util.append(train[k])\n",
    "        target_train_util.append(target_train[k][0:5])\n",
    "\n",
    "train_data = np.array(train_util)[:20000]\n",
    "target_train = np.array(target_train_util)[:20000]\n",
    "\n",
    "validation_data = np.array(train_util)[20000:]\n",
    "target_validation = np.array(target_train_util)[20000:]"
   ]
  },
  {
   "cell_type": "code",
   "execution_count": 16,
   "metadata": {},
   "outputs": [
    {
     "data": {
      "text/plain": [
       "(20000, 784)"
      ]
     },
     "execution_count": 16,
     "metadata": {},
     "output_type": "execute_result"
    }
   ],
   "source": [
    "train_data.shape"
   ]
  },
  {
   "cell_type": "code",
   "execution_count": 24,
   "metadata": {
    "scrolled": true
   },
   "outputs": [
    {
     "data": {
      "text/plain": [
       "<matplotlib.axes._subplots.AxesSubplot at 0x261b0431550>"
      ]
     },
     "execution_count": 24,
     "metadata": {},
     "output_type": "execute_result"
    },
    {
     "data": {
      "image/png": "[encoded data removed]",
      "text/plain": [
       "<matplotlib.figure.Figure at 0x261b043dd30>"
      ]
     },
     "metadata": {},
     "output_type": "display_data"
    }
   ],
   "source": [
    "import random as rd\n",
    "\n",
    "r = rd.randint(0,train_data.shape[0])\n",
    "\n",
    "sbn.heatmap(train_data[r].reshape((28,28)))"
   ]
  },
  {
   "cell_type": "code",
   "execution_count": 81,
   "metadata": {},
   "outputs": [
    {
     "data": {
      "text/plain": [
       "24"
      ]
     },
     "execution_count": 81,
     "metadata": {},
     "output_type": "execute_result"
    }
   ],
   "source": [
    "L = [[1,2,3,5,9,4]]\n",
    "B = [1,1,3,5,9,5]\n",
    "R = np.append(L,B)\n",
    "np.sum(B)"
   ]
  },
  {
   "cell_type": "code",
   "execution_count": 84,
   "metadata": {},
   "outputs": [],
   "source": [
    "def preprocess_results(results):\n",
    "    out = []\n",
    "    for result in results:\n",
    "        preprocessed_vector = np.zeros(result.shape)\n",
    "        index_max = result.argmax()\n",
    "        preprocessed_vector[index_max] = 1\n",
    "        out.append(preprocessed_vector)\n",
    "    return(out)\n",
    "\n",
    "def validation_step(results,targets):\n",
    "    results_util = np.array(preprocess_results(results))\n",
    "    assert results_util.shape == targets.shape\n",
    "    answer_array = results_util*targets\n",
    "    good_results = 0\n",
    "    for answer in answer_array:\n",
    "        n = np.sum(answer)\n",
    "        if n:\n",
    "            good_results +=1\n",
    "    return(good_results/targets.shape[0])"
   ]
  },
  {
   "cell_type": "code",
   "execution_count": 61,
   "metadata": {},
   "outputs": [
    {
     "data": {
      "text/plain": [
       "(8038, 5)"
      ]
     },
     "execution_count": 61,
     "metadata": {},
     "output_type": "execute_result"
    }
   ],
   "source": [
    "target_validation.shape"
   ]
  },
  {
   "cell_type": "code",
   "execution_count": 83,
   "metadata": {},
   "outputs": [
    {
     "name": "stdout",
     "output_type": "stream",
     "text": [
      "[ 0.  1.  0.  0.  0.]\n"
     ]
    },
    {
     "data": {
      "text/plain": [
       "0.1723065439163971"
      ]
     },
     "execution_count": 83,
     "metadata": {},
     "output_type": "execute_result"
    }
   ],
   "source": [
    "validation_step(out,target_validation)"
   ]
  },
  {
   "cell_type": "code",
   "execution_count": 105,
   "metadata": {},
   "outputs": [],
   "source": [
    "def neural_nets(data = None, target=None,training = False):\n",
    "    tf.reset_default_graph() \n",
    "    nbr_epoch = 50\n",
    "    batch_size = 128\n",
    "    input_nn = tf.placeholder('float',shape=(None,784))\n",
    "    if training:\n",
    "        target_nn = tf.placeholder('float',shape = (None,5))\n",
    "    he_init = tf.contrib.layers.variance_scaling_initializer(mode = 'FAN_AVG')\n",
    "    with tf.name_scope('layer_1'):\n",
    "        hidden_1 = tf.layers.dense(input_nn,100,kernel_initializer=he_init,name='first_layer')\n",
    "        activation_1 = tf.nn.elu(hidden_1, name= 'activation_1')\n",
    "        normed_1 = tf.layers.batch_normalization(activation_1,name = 'normed_1', training = training)\n",
    "    with tf.name_scope('layer_2'):\n",
    "        hidden_2 = tf.layers.dense(normed_1,100,kernel_initializer=he_init,name='second_layer')\n",
    "        activation_2 = tf.nn.elu(hidden_2, name= 'activation_2')\n",
    "        normed_2 = tf.layers.batch_normalization(activation_2,name = 'normed_2', training = training)\n",
    "    with tf.name_scope('layer_3'):\n",
    "        hidden_3 = tf.layers.dense(normed_2,100,kernel_initializer=he_init,name='third_layer')\n",
    "        activation_3 = tf.nn.elu(hidden_3, name= 'activation_3')\n",
    "        normed_3 = tf.layers.batch_normalization(activation_3,name = 'normed_3', training = training)\n",
    "\n",
    "    with tf.name_scope('layer_4'):\n",
    "        hidden_4 = tf.layers.dense(normed_3,100,kernel_initializer=he_init,name='fourth_layer')\n",
    "        activation_4 = tf.nn.elu(hidden_4, name= 'activation_4')\n",
    "        normed_4 = tf.layers.batch_normalization(activation_4,name = 'normed_4', training = training)\n",
    "    \n",
    "    with tf.name_scope('layer_5'):\n",
    "        hidden_5 = tf.layers.dense(normed_4,100,kernel_initializer=he_init,name='fifth_layer')\n",
    "        activation_5 = tf.nn.elu(hidden_5, name= 'activation_5')\n",
    "        normed_5 = tf.layers.batch_normalization(activation_5,name = 'normed_5', training = training)\n",
    "\n",
    "    with tf.name_scope('output_layer'):\n",
    "        output = tf.layers.dense(activation_5,5,kernel_initializer=he_init,name='last_hidden')\n",
    "        logits = tf.nn.softmax(output)\n",
    "\n",
    "    if training:\n",
    "        extra_update_ops = tf.get_collection(tf.GraphKeys.UPDATE_OPS)\n",
    "        with tf.name_scope('loss_calculation'):\n",
    "            error = tf.nn.softmax_cross_entropy_with_logits(logits = logits,labels = target_nn, name = 'error')\n",
    "            loss = tf.reduce_mean(error,name='loss')\n",
    "\n",
    "        with tf.name_scope('optimization'):\n",
    "            optimizer = tf.train.AdamOptimizer()\n",
    "            train_op = optimizer.minimize(loss)\n",
    "\n",
    "    init = tf.global_variables_initializer()\n",
    "\n",
    "    if training:\n",
    "        with tf.Session() as sess:\n",
    "            saver = tf.train.Saver()\n",
    "            sess.run(init)\n",
    "            best_validation = 0\n",
    "            index_validation = 0\n",
    "            for epoch in range(nbr_epoch):\n",
    "                save_path = saver.save(sess, \"/model/model.ckpt\")\n",
    "                for k in range(train_data.shape[0]//batch_size):\n",
    "                    X_batch = train_data[k*batch_size:(k+1)*batch_size]\n",
    "                    Y_batch = target_train[k*batch_size:(k+1)*batch_size]\n",
    "                    sess.run([train_op,extra_update_ops], feed_dict={input_nn:X_batch,target_nn:Y_batch})\n",
    "                    validation_logits = sess.run([logits], feed_dict={input_nn:validation_data})\n",
    "                    test_on_validation = validation_step(validation_logits[0],target_validation)\n",
    "                    index_validation +=1\n",
    "                    if test_on_validation > best_validation:\n",
    "                        best_validation = test_on_validation\n",
    "                        index_validation = 0\n",
    "                    if index_validation > 1000:\n",
    "                        print('Training early stopped at epoch-> {} and batch step ->{} as validation step wasn\\'t improving. best score on validation --> {}'.format(epoch,k,best_validation))\n",
    "                        save_path = saver.save(sess, \"/model/model_final.ckpt\")\n",
    "                        return()\n",
    "                print('Validation score for the epoch {} is -> {}'.format(epoch,best_validation))\n",
    "                if epoch % 5 == 0:\n",
    "                    print('Model saved after epoch -> {} @ {}'.format(epoch,save_path))\n",
    "            save_path = saver.save(sess, \"/model/model_final.ckpt\")\n",
    "            return('Model end training with best validation score -> {}'.format(best_validation))\n",
    "    else:\n",
    "        with tf.Session() as sess:\n",
    "            sess.run(init)\n",
    "            result = sess.run([logits], feed_dict = {input_nn:data})\n",
    "            return(result)\n",
    "    #Don't forget to put save.saver(path_fichier) dans la session"
   ]
  },
  {
   "cell_type": "code",
   "execution_count": 106,
   "metadata": {},
   "outputs": [
    {
     "name": "stdout",
     "output_type": "stream",
     "text": [
      "Validation score for the epoch 0 is -> 0.9762378701169445\n",
      "Model saved after epoch -> 0 @ /model/model.ckpt\n",
      "Validation score for the epoch 1 is -> 0.98283155013685\n",
      "Validation score for the epoch 2 is -> 0.983578004478726\n",
      "Validation score for the epoch 3 is -> 0.9849465041054989\n",
      "Validation score for the epoch 4 is -> 0.9868126399601891\n",
      "Validation score for the epoch 5 is -> 0.9873102761881065\n",
      "Model saved after epoch -> 5 @ /model/model.ckpt\n",
      "Validation score for the epoch 6 is -> 0.9873102761881065\n",
      "Validation score for the epoch 7 is -> 0.9873102761881065\n",
      "Validation score for the epoch 8 is -> 0.9879323214730032\n",
      "Validation score for the epoch 9 is -> 0.9883055486439413\n",
      "Validation score for the epoch 10 is -> 0.9883055486439413\n",
      "Model saved after epoch -> 10 @ /model/model.ckpt\n",
      "Validation score for the epoch 11 is -> 0.9883055486439413\n",
      "Validation score for the epoch 12 is -> 0.9886787758148793\n",
      "Validation score for the epoch 13 is -> 0.9886787758148793\n",
      "Validation score for the epoch 14 is -> 0.988927593928838\n",
      "Validation score for the epoch 15 is -> 0.989300821099776\n",
      "Model saved after epoch -> 15 @ /model/model.ckpt\n",
      "Validation score for the epoch 16 is -> 0.9894252301567554\n",
      "Validation score for the epoch 17 is -> 0.9894252301567554\n",
      "Validation score for the epoch 18 is -> 0.9894252301567554\n",
      "Validation score for the epoch 19 is -> 0.9894252301567554\n",
      "Validation score for the epoch 20 is -> 0.9894252301567554\n",
      "Model saved after epoch -> 20 @ /model/model.ckpt\n",
      "Validation score for the epoch 21 is -> 0.9910425478974869\n",
      "Validation score for the epoch 22 is -> 0.9917890022393631\n",
      "Validation score for the epoch 23 is -> 0.9917890022393631\n",
      "Validation score for the epoch 24 is -> 0.9917890022393631\n",
      "Validation score for the epoch 25 is -> 0.9917890022393631\n",
      "Model saved after epoch -> 25 @ /model/model.ckpt\n",
      "Validation score for the epoch 26 is -> 0.9917890022393631\n",
      "Validation score for the epoch 27 is -> 0.9917890022393631\n",
      "Validation score for the epoch 28 is -> 0.9917890022393631\n",
      "Training early stopped at epoch-> 29 and batch step ->3 as validation step wasn't improving. best score on validation --> 0.9917890022393631\n"
     ]
    }
   ],
   "source": [
    "out = neural_nets(training=True)"
   ]
  },
  {
   "cell_type": "code",
   "execution_count": 95,
   "metadata": {
    "scrolled": true
   },
   "outputs": [
    {
     "data": {
      "text/plain": [
       "\"Training early stopped at epoch-> 26 and batch step ->17 as validation step wasn't improving. best score on validation --> 0.9876835033590445\""
      ]
     },
     "execution_count": 95,
     "metadata": {},
     "output_type": "execute_result"
    }
   ],
   "source": [
    "out = neural_nets(test)"
   ]
  },
  {
   "cell_type": "code",
   "execution_count": 99,
   "metadata": {},
   "outputs": [],
   "source": [
    "L = [0.977855187857676,0.9807165961682011,0.9844488678775815,0.9845732769345609,0.9845732769345609,0.9845732769345609,0.9865638218462304,0.9876835033590445,]\n",
    "\n"
   ]
  },
  {
   "cell_type": "code",
   "execution_count": null,
   "metadata": {},
   "outputs": [],
   "source": [
    "def new_neural_nets():\n",
    "    graph = tf.get_default_graph()\n",
    "    new_hidden_1 = graph.get_tensor_by_name()"
   ]
  }
 ],
 "metadata": {
  "kernelspec": {
   "display_name": "Python 3",
   "language": "python",
   "name": "python3"
  },
  "language_info": {
   "codemirror_mode": {
    "name": "ipython",
    "version": 3
   },
   "file_extension": ".py",
   "mimetype": "text/x-python",
   "name": "python",
   "nbconvert_exporter": "python",
   "pygments_lexer": "ipython3",
   "version": "3.5.4"
  }
 },
 "nbformat": 4,
 "nbformat_minor": 2
}
